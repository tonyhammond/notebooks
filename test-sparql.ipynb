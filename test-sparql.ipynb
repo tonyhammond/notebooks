{
 "cells": [
  {
   "cell_type": "code",
   "execution_count": 1,
   "metadata": {},
   "outputs": [
    {
     "data": {
      "text/html": [
       "<div class=\"krn-spql\"><div class=\"magic-help\">Available magics:<br/>%auth  %display  %endpoint  %format  %graph  %lang  %log  %lsmagics  %outfile  %prefix  %qparam  %show<br/><br/>%auth (basic|digest|none) &lt;username&gt; &lt;passwd&gt; : send HTTP authentication<br/>%display raw | table [withtypes] | diagram [svg|png] [withliterals] : set display format<br/>%endpoint &lt;url&gt; : set SPARQL endpoint. **REQUIRED**<br/>%format JSON | N3 | XML | any | default : set requested result format<br/>%graph &lt;uri&gt; : set default graph for the queries<br/>%lang &lt;lang&gt; [...] | default | all : language(s) preferred for labels<br/>%log critical | error | warning | info | debug : set logging level<br/>%lsmagics  : list all magics<br/>%outfile &lt;filename&gt; | NONE : save raw output to a file (use &quot;%d&quot; in name to add cell number, &quot;NONE&quot; to cancel saving)<br/>%prefix &lt;name&gt; [&lt;uri&gt;] : set (or delete) a persistent URI prefix for all queries<br/>%qparam &lt;name&gt; [&lt;value&gt;] : add (or delete) a persistent custom parameter to the endpoint query<br/>%show &lt;n&gt; | all : maximum number of shown results</div></div>"
      ],
      "text/plain": [
       "Available magics:\n",
       "%auth  %display  %endpoint  %format  %graph  %lang  %log  %lsmagics  %outfile  %prefix  %qparam  %show\n",
       "\n",
       "%auth (basic|digest|none) <username> <passwd> : send HTTP authentication\n",
       "%display raw | table [withtypes] | diagram [svg|png] [withliterals] : set display format\n",
       "%endpoint <url> : set SPARQL endpoint. **REQUIRED**\n",
       "%format JSON | N3 | XML | any | default : set requested result format\n",
       "%graph <uri> : set default graph for the queries\n",
       "%lang <lang> [...] | default | all : language(s) preferred for labels\n",
       "%log critical | error | warning | info | debug : set logging level\n",
       "%lsmagics  : list all magics\n",
       "%outfile <filename> | NONE : save raw output to a file (use \"%d\" in name to add cell number, \"NONE\" to cancel saving)\n",
       "%prefix <name> [<uri>] : set (or delete) a persistent URI prefix for all queries\n",
       "%qparam <name> [<value>] : add (or delete) a persistent custom parameter to the endpoint query\n",
       "%show <n> | all : maximum number of shown results\n"
      ]
     },
     "metadata": {},
     "output_type": "display_data"
    }
   ],
   "source": [
    "%lsmagics"
   ]
  },
  {
   "cell_type": "code",
   "execution_count": 3,
   "metadata": {},
   "outputs": [
    {
     "data": {
      "text/html": [
       "<div class=\"krn-spql\"><div class=\"magic\">Endpoint set to: http://dbpedia.org/sparql</div></div>"
      ],
      "text/plain": [
       "Endpoint set to: http://dbpedia.org/sparql\n"
      ]
     },
     "metadata": {},
     "output_type": "display_data"
    }
   ],
   "source": [
    "%endpoint http://dbpedia.org/sparql"
   ]
  },
  {
   "cell_type": "code",
   "execution_count": 1,
   "metadata": {},
   "outputs": [
    {
     "data": {
      "text/html": [
       "<div class=\"krn-spql\"><div class=\"magic\">Display: table</div></div>"
      ],
      "text/plain": [
       "Display: table\n"
      ]
     },
     "metadata": {},
     "output_type": "display_data"
    }
   ],
   "source": [
    "%display table"
   ]
  },
  {
   "cell_type": "code",
   "execution_count": 4,
   "metadata": {},
   "outputs": [
    {
     "data": {
      "text/html": [
       "<div class=\"krn-spql\"><table><tr class=hdr><th>artist</th>\n",
       "<th>gender</th></tr><tr class=odd><td class=val><a href=\"http://dbpedia.org/resource/Gary_Numan\" target=\"_other\">http://dbpedia.org/resource/Gary_Numan</a></td>\n",
       "<td class=val>male</td></tr><tr class=even><td class=val><a href=\"http://dbpedia.org/resource/George_Michael\" target=\"_other\">http://dbpedia.org/resource/George_Michael</a></td>\n",
       "<td class=val>male</td></tr><tr class=odd><td class=val><a href=\"http://dbpedia.org/resource/Georges-Eugène_Haussmann\" target=\"_other\">http://dbpedia.org/resource/Georges-Eugène_Haussmann</a></td>\n",
       "<td class=val>male</td></tr><tr class=even><td class=val><a href=\"http://dbpedia.org/resource/Gillian_Anderson\" target=\"_other\">http://dbpedia.org/resource/Gillian_Anderson</a></td>\n",
       "<td class=val>female</td></tr><tr class=odd><td class=val><a href=\"http://dbpedia.org/resource/Giovanni_Battista_Pergolesi\" target=\"_other\">http://dbpedia.org/resource/Giovanni_Battista_Pergolesi</a></td>\n",
       "<td class=val>male</td></tr><tr class=even><td class=val><a href=\"http://dbpedia.org/resource/Giovanni_Pacini\" target=\"_other\">http://dbpedia.org/resource/Giovanni_Pacini</a></td>\n",
       "<td class=val>male</td></tr><tr class=odd><td class=val><a href=\"http://dbpedia.org/resource/Giovanni_Paisiello\" target=\"_other\">http://dbpedia.org/resource/Giovanni_Paisiello</a></td>\n",
       "<td class=val>male</td></tr><tr class=even><td class=val><a href=\"http://dbpedia.org/resource/Glenn_Close\" target=\"_other\">http://dbpedia.org/resource/Glenn_Close</a></td>\n",
       "<td class=val>female</td></tr><tr class=odd><td class=val><a href=\"http://dbpedia.org/resource/Glenn_Hughes\" target=\"_other\">http://dbpedia.org/resource/Glenn_Hughes</a></td>\n",
       "<td class=val>male</td></tr><tr class=even><td class=val><a href=\"http://dbpedia.org/resource/Goldie\" target=\"_other\">http://dbpedia.org/resource/Goldie</a></td>\n",
       "<td class=val>male</td></tr><tr class=odd><td class=val><a href=\"http://dbpedia.org/resource/Goldie_Hawn\" target=\"_other\">http://dbpedia.org/resource/Goldie_Hawn</a></td>\n",
       "<td class=val>female</td></tr><tr class=even><td class=val><a href=\"http://dbpedia.org/resource/Gustav_Holst\" target=\"_other\">http://dbpedia.org/resource/Gustav_Holst</a></td>\n",
       "<td class=val>male</td></tr><tr class=odd><td class=val><a href=\"http://dbpedia.org/resource/Gwen_Verdon\" target=\"_other\">http://dbpedia.org/resource/Gwen_Verdon</a></td>\n",
       "<td class=val>female</td></tr><tr class=even><td class=val><a href=\"http://dbpedia.org/resource/Gwyneth_Paltrow\" target=\"_other\">http://dbpedia.org/resource/Gwyneth_Paltrow</a></td>\n",
       "<td class=val>female</td></tr><tr class=odd><td class=val><a href=\"http://dbpedia.org/resource/Hector_Berlioz\" target=\"_other\">http://dbpedia.org/resource/Hector_Berlioz</a></td>\n",
       "<td class=val>male</td></tr><tr class=even><td class=val><a href=\"http://dbpedia.org/resource/Henry_Mancini\" target=\"_other\">http://dbpedia.org/resource/Henry_Mancini</a></td>\n",
       "<td class=val>male</td></tr><tr class=odd><td class=val><a href=\"http://dbpedia.org/resource/Herbie_Hancock\" target=\"_other\">http://dbpedia.org/resource/Herbie_Hancock</a></td>\n",
       "<td class=val>male</td></tr><tr class=even><td class=val><a href=\"http://dbpedia.org/resource/Hildegard_Knef\" target=\"_other\">http://dbpedia.org/resource/Hildegard_Knef</a></td>\n",
       "<td class=val>female</td></tr><tr class=odd><td class=val><a href=\"http://dbpedia.org/resource/Ian_Curtis\" target=\"_other\">http://dbpedia.org/resource/Ian_Curtis</a></td>\n",
       "<td class=val>male</td></tr><tr class=even><td class=val><a href=\"http://dbpedia.org/resource/Ian_Dury\" target=\"_other\">http://dbpedia.org/resource/Ian_Dury</a></td>\n",
       "<td class=val>male</td></tr></table><div class=\"tinfo\">Total: 100, Shown: 20</div></div>"
      ]
     },
     "metadata": {},
     "output_type": "display_data"
    }
   ],
   "source": [
    "select distinct ?artist ?gender\n",
    "where {\n",
    "   #?s a dbo:MusicalArtist .\n",
    "   ?s a yago:Musician110339966 .\n",
    "   optional { ?s foaf:gender ?gender }\n",
    "   bind (?s as ?artist)\n",
    "}\n",
    "limit 100 offset 60"
   ]
  },
  {
   "cell_type": "code",
   "execution_count": null,
   "metadata": {},
   "outputs": [],
   "source": []
  }
 ],
 "metadata": {
  "kernelspec": {
   "display_name": "SPARQL",
   "language": "sparql",
   "name": "sparql"
  },
  "language_info": {
   "codemirror_mode": {
    "name": "sparql"
   },
   "mimetype": "application/sparql-query",
   "name": "sparql",
   "pygments_lexer": "sparql-nb"
  }
 },
 "nbformat": 4,
 "nbformat_minor": 2
}
