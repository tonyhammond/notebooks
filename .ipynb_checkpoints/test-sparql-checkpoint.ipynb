{
 "cells": [
  {
   "cell_type": "code",
   "execution_count": 1,
   "metadata": {},
   "outputs": [
    {
     "data": {
      "text/html": [
       "<div class=\"krn-spql\"><div class=\"magic-help\">Available magics:<br/>%auth  %display  %endpoint  %format  %graph  %lang  %log  %lsmagics  %outfile  %prefix  %qparam  %show<br/><br/>%auth (basic|digest|none) &lt;username&gt; &lt;passwd&gt; : send HTTP authentication<br/>%display raw | table [withtypes] | diagram [svg|png] [withliterals] : set display format<br/>%endpoint &lt;url&gt; : set SPARQL endpoint. **REQUIRED**<br/>%format JSON | N3 | XML | any | default : set requested result format<br/>%graph &lt;uri&gt; : set default graph for the queries<br/>%lang &lt;lang&gt; [...] | default | all : language(s) preferred for labels<br/>%log critical | error | warning | info | debug : set logging level<br/>%lsmagics  : list all magics<br/>%outfile &lt;filename&gt; | NONE : save raw output to a file (use &quot;%d&quot; in name to add cell number, &quot;NONE&quot; to cancel saving)<br/>%prefix &lt;name&gt; [&lt;uri&gt;] : set (or delete) a persistent URI prefix for all queries<br/>%qparam &lt;name&gt; [&lt;value&gt;] : add (or delete) a persistent custom parameter to the endpoint query<br/>%show &lt;n&gt; | all : maximum number of shown results</div></div>"
      ],
      "text/plain": [
       "Available magics:\n",
       "%auth  %display  %endpoint  %format  %graph  %lang  %log  %lsmagics  %outfile  %prefix  %qparam  %show\n",
       "\n",
       "%auth (basic|digest|none) <username> <passwd> : send HTTP authentication\n",
       "%display raw | table [withtypes] | diagram [svg|png] [withliterals] : set display format\n",
       "%endpoint <url> : set SPARQL endpoint. **REQUIRED**\n",
       "%format JSON | N3 | XML | any | default : set requested result format\n",
       "%graph <uri> : set default graph for the queries\n",
       "%lang <lang> [...] | default | all : language(s) preferred for labels\n",
       "%log critical | error | warning | info | debug : set logging level\n",
       "%lsmagics  : list all magics\n",
       "%outfile <filename> | NONE : save raw output to a file (use \"%d\" in name to add cell number, \"NONE\" to cancel saving)\n",
       "%prefix <name> [<uri>] : set (or delete) a persistent URI prefix for all queries\n",
       "%qparam <name> [<value>] : add (or delete) a persistent custom parameter to the endpoint query\n",
       "%show <n> | all : maximum number of shown results\n"
      ]
     },
     "metadata": {},
     "output_type": "display_data"
    }
   ],
   "source": [
    "%lsmagics"
   ]
  },
  {
   "cell_type": "code",
   "execution_count": 2,
   "metadata": {},
   "outputs": [
    {
     "data": {
      "text/html": [
       "<div class=\"krn-spql\"><div class=\"magic\">Endpoint set to: http://dbpedia.org/sparql</div></div>"
      ],
      "text/plain": [
       "Endpoint set to: http://dbpedia.org/sparql\n"
      ]
     },
     "metadata": {},
     "output_type": "display_data"
    }
   ],
   "source": [
    "%endpoint http://dbpedia.org/sparql"
   ]
  },
  {
   "cell_type": "code",
   "execution_count": 3,
   "metadata": {},
   "outputs": [
    {
     "data": {
      "text/html": [
       "<div class=\"krn-spql\"><table><tr class=hdr><th>s</th>\n",
       "<th>p</th>\n",
       "<th>o</th></tr><tr class=odd><td class=val><a href=\"http://dbpedia.org/resource/A._C._Bhaktivedanta_Swami_Prabhupada\" target=\"_other\">http://dbpedia.org/resource/A._C._Bhaktivedanta_Swami_Prabhupada</a></td>\n",
       "<td class=val><a href=\"http://www.w3.org/1999/02/22-rdf-syntax-ns#type\" target=\"_other\">http://www.w3.org/1999/02/22-rdf-syntax-ns#type</a></td>\n",
       "<td class=val><a href=\"http://www.w3.org/2002/07/owl#Thing\" target=\"_other\">http://www.w3.org/2002/07/owl#Thing</a></td></tr><tr class=even><td class=val><a href=\"http://dbpedia.org/resource/A._C._Bhaktivedanta_Swami_Prabhupada\" target=\"_other\">http://dbpedia.org/resource/A._C._Bhaktivedanta_Swami_Prabhupada</a></td>\n",
       "<td class=val><a href=\"http://www.w3.org/1999/02/22-rdf-syntax-ns#type\" target=\"_other\">http://www.w3.org/1999/02/22-rdf-syntax-ns#type</a></td>\n",
       "<td class=val><a href=\"http://xmlns.com/foaf/0.1/Person\" target=\"_other\">http://xmlns.com/foaf/0.1/Person</a></td></tr><tr class=odd><td class=val><a href=\"http://dbpedia.org/resource/A._C._Bhaktivedanta_Swami_Prabhupada\" target=\"_other\">http://dbpedia.org/resource/A._C._Bhaktivedanta_Swami_Prabhupada</a></td>\n",
       "<td class=val><a href=\"http://www.w3.org/1999/02/22-rdf-syntax-ns#type\" target=\"_other\">http://www.w3.org/1999/02/22-rdf-syntax-ns#type</a></td>\n",
       "<td class=val><a href=\"http://dbpedia.org/ontology/Person\" target=\"_other\">http://dbpedia.org/ontology/Person</a></td></tr><tr class=even><td class=val><a href=\"http://dbpedia.org/resource/A._C._Bhaktivedanta_Swami_Prabhupada\" target=\"_other\">http://dbpedia.org/resource/A._C._Bhaktivedanta_Swami_Prabhupada</a></td>\n",
       "<td class=val><a href=\"http://www.w3.org/1999/02/22-rdf-syntax-ns#type\" target=\"_other\">http://www.w3.org/1999/02/22-rdf-syntax-ns#type</a></td>\n",
       "<td class=val><a href=\"http://www.ontologydesignpatterns.org/ont/dul/DUL.owl#Agent\" target=\"_other\">http://www.ontologydesignpatterns.org/ont/dul/DUL.owl#Agent</a></td></tr><tr class=odd><td class=val><a href=\"http://dbpedia.org/resource/A._C._Bhaktivedanta_Swami_Prabhupada\" target=\"_other\">http://dbpedia.org/resource/A._C._Bhaktivedanta_Swami_Prabhupada</a></td>\n",
       "<td class=val><a href=\"http://www.w3.org/1999/02/22-rdf-syntax-ns#type\" target=\"_other\">http://www.w3.org/1999/02/22-rdf-syntax-ns#type</a></td>\n",
       "<td class=val><a href=\"http://www.ontologydesignpatterns.org/ont/dul/DUL.owl#NaturalPerson\" target=\"_other\">http://www.ontologydesignpatterns.org/ont/dul/DUL.owl#NaturalPerson</a></td></tr><tr class=even><td class=val><a href=\"http://dbpedia.org/resource/A._C._Bhaktivedanta_Swami_Prabhupada\" target=\"_other\">http://dbpedia.org/resource/A._C._Bhaktivedanta_Swami_Prabhupada</a></td>\n",
       "<td class=val><a href=\"http://www.w3.org/1999/02/22-rdf-syntax-ns#type\" target=\"_other\">http://www.w3.org/1999/02/22-rdf-syntax-ns#type</a></td>\n",
       "<td class=val><a href=\"http://www.wikidata.org/entity/Q215627\" target=\"_other\">http://www.wikidata.org/entity/Q215627</a></td></tr><tr class=odd><td class=val><a href=\"http://dbpedia.org/resource/A._C._Bhaktivedanta_Swami_Prabhupada\" target=\"_other\">http://dbpedia.org/resource/A._C._Bhaktivedanta_Swami_Prabhupada</a></td>\n",
       "<td class=val><a href=\"http://www.w3.org/1999/02/22-rdf-syntax-ns#type\" target=\"_other\">http://www.w3.org/1999/02/22-rdf-syntax-ns#type</a></td>\n",
       "<td class=val><a href=\"http://www.wikidata.org/entity/Q24229398\" target=\"_other\">http://www.wikidata.org/entity/Q24229398</a></td></tr><tr class=even><td class=val><a href=\"http://dbpedia.org/resource/A._C._Bhaktivedanta_Swami_Prabhupada\" target=\"_other\">http://dbpedia.org/resource/A._C._Bhaktivedanta_Swami_Prabhupada</a></td>\n",
       "<td class=val><a href=\"http://www.w3.org/1999/02/22-rdf-syntax-ns#type\" target=\"_other\">http://www.w3.org/1999/02/22-rdf-syntax-ns#type</a></td>\n",
       "<td class=val><a href=\"http://www.wikidata.org/entity/Q2566598\" target=\"_other\">http://www.wikidata.org/entity/Q2566598</a></td></tr><tr class=odd><td class=val><a href=\"http://dbpedia.org/resource/A._C._Bhaktivedanta_Swami_Prabhupada\" target=\"_other\">http://dbpedia.org/resource/A._C._Bhaktivedanta_Swami_Prabhupada</a></td>\n",
       "<td class=val><a href=\"http://www.w3.org/1999/02/22-rdf-syntax-ns#type\" target=\"_other\">http://www.w3.org/1999/02/22-rdf-syntax-ns#type</a></td>\n",
       "<td class=val><a href=\"http://www.wikidata.org/entity/Q5\" target=\"_other\">http://www.wikidata.org/entity/Q5</a></td></tr><tr class=even><td class=val><a href=\"http://dbpedia.org/resource/A._C._Bhaktivedanta_Swami_Prabhupada\" target=\"_other\">http://dbpedia.org/resource/A._C._Bhaktivedanta_Swami_Prabhupada</a></td>\n",
       "<td class=val><a href=\"http://www.w3.org/1999/02/22-rdf-syntax-ns#type\" target=\"_other\">http://www.w3.org/1999/02/22-rdf-syntax-ns#type</a></td>\n",
       "<td class=val><a href=\"http://dbpedia.org/ontology/Agent\" target=\"_other\">http://dbpedia.org/ontology/Agent</a></td></tr></table><div class=\"tinfo\">Total: 10, Shown: 10</div></div>"
      ]
     },
     "metadata": {},
     "output_type": "display_data"
    }
   ],
   "source": [
    "select * where {\n",
    "    ?s a foaf:Person .\n",
    "    ?s ?p ?o .\n",
    "} limit 10"
   ]
  },
  {
   "cell_type": "code",
   "execution_count": null,
   "metadata": {},
   "outputs": [],
   "source": []
  }
 ],
 "metadata": {
  "kernelspec": {
   "display_name": "SPARQL",
   "language": "sparql",
   "name": "sparql"
  },
  "language_info": {
   "codemirror_mode": {
    "name": "sparql"
   },
   "mimetype": "application/sparql-query",
   "name": "sparql",
   "pygments_lexer": "sparql-nb"
  }
 },
 "nbformat": 4,
 "nbformat_minor": 2
}
